{
 "cells": [
  {
   "cell_type": "markdown",
   "metadata": {},
   "source": [
    "# Language Exploration Using Vector Space Models"
   ]
  },
  {
   "cell_type": "markdown",
   "metadata": {},
   "source": [
    "Natural language processing is a huge sub-field of artificial intelligence that deals with models and representations for natural language.  A very common way to represent words, phrases, and documents in modern NLP involves the use of sparse vectors.  Here we'll explore a variety of Python libraries that implement various algorithoms related to natural language processing using vector space models."
   ]
  },
  {
   "cell_type": "markdown",
   "metadata": {
    "collapsed": true
   },
   "source": [
    "The first thing we need is some text to work with.  NLTK (Natural Language Toolkit) has many popular corpora available for download directly from the API, so let's use that.  For this exercise we're going to use the Brown corpus.  Start by initiating the download tool and selecting the corpus."
   ]
  },
  {
   "cell_type": "code",
   "execution_count": 1,
   "metadata": {
    "collapsed": true
   },
   "outputs": [],
   "source": [
    "%matplotlib inline\n",
    "import numpy as np\n",
    "import matplotlib.pyplot as plt\n",
    "import seaborn\n",
    "import nltk\n",
    "#nltk.download()"
   ]
  },
  {
   "cell_type": "markdown",
   "metadata": {},
   "source": [
    "Check to make sure that the download was successful and we can access the data."
   ]
  },
  {
   "cell_type": "code",
   "execution_count": 2,
   "metadata": {
    "collapsed": false
   },
   "outputs": [
    {
     "data": {
      "text/plain": [
       "1720901"
      ]
     },
     "execution_count": 2,
     "metadata": {},
     "output_type": "execute_result"
    }
   ],
   "source": [
    "from nltk.corpus import reuters\n",
    "len(reuters.words())"
   ]
  },
  {
   "cell_type": "markdown",
   "metadata": {},
   "source": [
    "If you've never heard of the Reuters corpus, it's a collection of more than 10,000 news documents published in 1987 categorized into 90 different topics.  The content is obviously a bit dated but it's still interesting to work with because of the size of the collection and the fact that we have labeled topics for each document that we can use for certain types of supervised learning algorithms.  The corpus contains over 1.3 million words in total.\n",
    "\n",
    "NLTK's feature set is focused more on the linguistic aspect of natural language processing than the machine learning aspect, with functions for tasks such as tokenization, stemming, tagging, and parsing.  Even so, there are some very useful functions we can take advantage of to get a sense of what's in this corpus.  Let's start by tabulating the number of unique words in the corpus. "
   ]
  },
  {
   "cell_type": "code",
   "execution_count": 3,
   "metadata": {
    "collapsed": false
   },
   "outputs": [
    {
     "data": {
      "text/plain": [
       "41600"
      ]
     },
     "execution_count": 3,
     "metadata": {},
     "output_type": "execute_result"
    }
   ],
   "source": [
    "vocabulary = set(reuters.words())\n",
    "len(vocabulary)"
   ]
  },
  {
   "cell_type": "markdown",
   "metadata": {},
   "source": [
    "There are 41,600 unique tokens in the corpus.  This doesn't tell us anything about the distribution of these tokens though.  NLTK has a built-in function to compute a frequency distribution for a text corpus."
   ]
  },
  {
   "cell_type": "code",
   "execution_count": 4,
   "metadata": {
    "collapsed": false
   },
   "outputs": [
    {
     "name": "stdout",
     "output_type": "stream",
     "text": [
      "<FreqDist with 41600 samples and 1720901 outcomes>\n"
     ]
    }
   ],
   "source": [
    "fdist = nltk.FreqDist(reuters.words())\n",
    "print(fdist)"
   ]
  },
  {
   "cell_type": "code",
   "execution_count": 5,
   "metadata": {
    "collapsed": false
   },
   "outputs": [
    {
     "data": {
      "text/plain": [
       "[(u'.', 94687),\n",
       " (u',', 72360),\n",
       " (u'the', 58251),\n",
       " (u'of', 35979),\n",
       " (u'to', 34035),\n",
       " (u'in', 26478),\n",
       " (u'said', 25224),\n",
       " (u'and', 25043),\n",
       " (u'a', 23492),\n",
       " (u'mln', 18037),\n",
       " (u'vs', 14120),\n",
       " (u'-', 13705),\n",
       " (u'for', 12785),\n",
       " (u'dlrs', 11730),\n",
       " (u\"'\", 11272),\n",
       " (u'The', 10968),\n",
       " (u'000', 10277),\n",
       " (u'1', 9977),\n",
       " (u's', 9298),\n",
       " (u'pct', 9093),\n",
       " (u'it', 8842),\n",
       " (u';', 8762),\n",
       " (u'&', 8698),\n",
       " (u'lt', 8694),\n",
       " (u'on', 8556),\n",
       " (u'from', 7986),\n",
       " (u'cts', 7953),\n",
       " (u'is', 7580),\n",
       " (u'>', 7449),\n",
       " (u'that', 7377)]"
      ]
     },
     "execution_count": 5,
     "metadata": {},
     "output_type": "execute_result"
    }
   ],
   "source": [
    "fdist.most_common(30)"
   ]
  },
  {
   "cell_type": "markdown",
   "metadata": {},
   "source": [
    "We can plot these cumulatively to get a sense for how much of the corpus they represent."
   ]
  },
  {
   "cell_type": "code",
   "execution_count": 6,
   "metadata": {
    "collapsed": false
   },
   "outputs": [
    {
     "data": {
      "image/png": "[encoded data removed]",
      "text/plain": [
       "<matplotlib.figure.Figure at 0x1aa6dd68>"
      ]
     },
     "metadata": {},
     "output_type": "display_data"
    }
   ],
   "source": [
    "fig, ax = plt.subplots(figsize=(16,12))\n",
    "ax = fdist.plot(30, cumulative=True)"
   ]
  },
  {
   "cell_type": "markdown",
   "metadata": {},
   "source": [
    "Just 30 tokens make up around 35% of the entire corpus!  Moreover, most of these are things like punctuation and articles such as \"and\", \"to\", \"of\" and so on.  This is useful to know as we may want to strip out tokens like these.  You might also notice that the word 'the' appears on the list twice.  That's because the corpus contains both upper-case and lower-case words, and they are each counted separately.  Before we attempt to do anything with this data we'll need to correct these issues."
   ]
  },
  {
   "cell_type": "code",
   "execution_count": 7,
   "metadata": {
    "collapsed": false
   },
   "outputs": [
    {
     "data": {
      "text/plain": [
       "30618"
      ]
     },
     "execution_count": 7,
     "metadata": {},
     "output_type": "execute_result"
    }
   ],
   "source": [
    "stopwords = nltk.corpus.stopwords.words()\n",
    "cleansed_words = [w.lower() for w in reuters.words() if w.isalnum() and w.lower() not in stopwords]\n",
    "vocabulary = set(cleansed_words)\n",
    "len(vocabulary)"
   ]
  },
  {
   "cell_type": "markdown",
   "metadata": {},
   "source": [
    "After converting everything to lowercase, removing punctuation, and removing \"stop words\" using a pre-defined list of words that do not add any semantic value, we've reduced the vocabulary from almost 42,000 to just over 30,000.  Note that we still didn't address things like singular vs. plural being different words.  To handle this we'd have to get into topics like stemming, but for not let's leave as-is.  Let's look at the top 30 again."
   ]
  },
  {
   "cell_type": "code",
   "execution_count": 8,
   "metadata": {
    "collapsed": false
   },
   "outputs": [
    {
     "data": {
      "text/plain": [
       "[(u'said', 25383),\n",
       " (u'mln', 18623),\n",
       " (u'vs', 14341),\n",
       " (u'dlrs', 12417),\n",
       " (u'000', 10277),\n",
       " (u'1', 9977),\n",
       " (u'pct', 9810),\n",
       " (u'lt', 8696),\n",
       " (u'cts', 8361),\n",
       " (u'year', 7529),\n",
       " (u'net', 6989),\n",
       " (u'2', 6528),\n",
       " (u'billion', 5829),\n",
       " (u'loss', 5124),\n",
       " (u'3', 5091),\n",
       " (u'5', 4683),\n",
       " (u'would', 4673),\n",
       " (u'company', 4670),\n",
       " (u'1986', 4392),\n",
       " (u'4', 4363),\n",
       " (u'shr', 4182),\n",
       " (u'inc', 4121),\n",
       " (u'bank', 3654),\n",
       " (u'7', 3450),\n",
       " (u'corp', 3399),\n",
       " (u'6', 3376),\n",
       " (u'oil', 3272),\n",
       " (u'last', 3243),\n",
       " (u'8', 3218),\n",
       " (u'share', 3160)]"
      ]
     },
     "execution_count": 8,
     "metadata": {},
     "output_type": "execute_result"
    }
   ],
   "source": [
    "fdist = nltk.FreqDist(cleansed_words)\n",
    "fdist.most_common(30)"
   ]
  },
  {
   "cell_type": "markdown",
   "metadata": {},
   "source": [
    "The list is arguably a bit more interesting now.  There's a lot more that we could do with NLTK, but since we're interested in using this data to build statistical models, we need to find ways to \"vectorize\" this data.  One common way to represent text data is called the \"bag of words\" representation.  A bag of words represents each document in a corpus as a series of features that ask a question about the document.  Most commonly, the features are the collection of all distinct words the vocabulary of the entire corpus.  The values are usually either binary (representing the presence or absence of that word in the document) or a count of the number of times that word appears in the document.  A corpus is then represented as a matrix with one row per document and one column per unique word.\n",
    "\n",
    "To build our initial bag of words matrix, we're going to use some of scikit-learn's built-in text processing capabilities."
   ]
  },
  {
   "cell_type": "code",
   "execution_count": 9,
   "metadata": {
    "collapsed": false
   },
   "outputs": [
    {
     "data": {
      "text/plain": [
       "CountVectorizer(analyzer=u'word', binary=False, charset=None,\n",
       "        charset_error=None, decode_error=u'strict',\n",
       "        dtype=<type 'numpy.int64'>, encoding=u'utf-8', input=u'content',\n",
       "        lowercase=True, max_df=1.0, max_features=None, min_df=1,\n",
       "        ngram_range=(1, 1), preprocessor=None, stop_words='english',\n",
       "        strip_accents=None, token_pattern=u'(?u)\\\\b\\\\w\\\\w+\\\\b',\n",
       "        tokenizer=None, vocabulary=None)"
      ]
     },
     "execution_count": 9,
     "metadata": {},
     "output_type": "execute_result"
    }
   ],
   "source": [
    "from sklearn.feature_extraction.text import CountVectorizer\n",
    "vectorizer = CountVectorizer(stop_words='english')\n",
    "vectorizer"
   ]
  },
  {
   "cell_type": "markdown",
   "metadata": {},
   "source": [
    "We'll start off using scikit-learn's CountVectorizer class to transform our corpus into a sparse bag of words representation.  CountVectorizer expects as input a list of raw strings containing the documents in the corpus.  It takes care of the tokenization, transformation to lowercase, filtering stop words, building the vocabulary etc.  It also tabulates occurrance counts per document for each feature.\n",
    "\n",
    "Since CountVectorizer expects the raw data as input rather than the pre-processed data we were working with in NLTK, we need to create a list of documents to pass to the vectorizer."
   ]
  },
  {
   "cell_type": "code",
   "execution_count": 10,
   "metadata": {
    "collapsed": false
   },
   "outputs": [
    {
     "data": {
      "text/plain": [
       "7769"
      ]
     },
     "execution_count": 10,
     "metadata": {},
     "output_type": "execute_result"
    }
   ],
   "source": [
    "files = [f for f in reuters.fileids() if 'training' in f]\n",
    "corpus = [reuters.raw(fileids=[f]) for f in files]\n",
    "len(corpus)"
   ]
  },
  {
   "cell_type": "code",
   "execution_count": 11,
   "metadata": {
    "collapsed": false
   },
   "outputs": [
    {
     "data": {
      "text/plain": [
       "u'BAHIA COCOA REVIEW\\n  Showers continued throughout the week in\\n  the Bahia cocoa zone, alleviating the drought since early\\n  January and improving prospects for the coming temporao,\\n  although normal humidity levels have not been restored,\\n  Comissaria Smith said in its weekly review.\\n      The dry period means the temporao will be late this year.\\n      Arrivals for the week ended February 22 were 155,221 bags\\n  of 60 kilos making a cumulative total for the season of 5.93\\n  mln against 5.81 at the same stage last year. Again it seems\\n  that cocoa delivered earlier on consignment was included in the\\n  arrivals figures.\\n      Comissaria Smith said there is still some doubt as to how\\n  much old crop cocoa is still available as harvesting has\\n  practically come to an end. With total Bahia crop estimates\\n  around 6.4 mln bags and sales standing at almost 6.2 mln there\\n  are a few hundred thousand bags still in the hands of farmers,\\n  middlemen, exporters and processors.\\n      There are doubts as to how much of this cocoa would be fit\\n  for export as shippers are now experiencing dificulties in\\n  obtaining +Bahia superior+ certificates.\\n      In view of the lower quality over recent weeks farmers have\\n  sold a good part of their cocoa held on consignment.\\n      Comissaria Smith said spot bean prices rose to 340 to 350\\n  cruzados per arroba of 15 kilos.\\n      Bean shippers were reluctant to offer nearby shipment and\\n  only limited sales were booked for March shipment at 1,750 to\\n  1,780 dlrs per tonne to ports to be named.\\n      New crop sales were also light and all to open ports with\\n  June/July going at 1,850 and 1,880 dlrs and at 35 and 45 dlrs\\n  under New York july, Aug/Sept at 1,870, 1,875 and 1,880 dlrs\\n  per tonne FOB.\\n      Routine sales of butter were made. March/April sold at\\n  4,340, 4,345 and 4,350 dlrs.\\n      April/May butter went at 2.27 times New York May, June/July\\n  at 4,400 and 4,415 dlrs, Aug/Sept at 4,351 to 4,450 dlrs and at\\n  2.27 and 2.28 times New York Sept and Oct/Dec at 4,480 dlrs and\\n  2.27 times New York Dec, Comissaria Smith said.\\n      Destinations were the U.S., Covertible currency areas,\\n  Uruguay and open ports.\\n      Cake sales were registered at 785 to 995 dlrs for\\n  March/April, 785 dlrs for May, 753 dlrs for Aug and 0.39 times\\n  New York Dec for Oct/Dec.\\n      Buyers were the U.S., Argentina, Uruguay and convertible\\n  currency areas.\\n      Liquor sales were limited with March/April selling at 2,325\\n  and 2,380 dlrs, June/July at 2,375 dlrs and at 1.25 times New\\n  York July, Aug/Sept at 2,400 dlrs and at 1.25 times New York\\n  Sept and Oct/Dec at 1.25 times New York Dec, Comissaria Smith\\n  said.\\n      Total Bahia sales are currently estimated at 6.13 mln bags\\n  against the 1986/87 crop and 1.06 mln bags against the 1987/88\\n  crop.\\n      Final figures for the period to February 28 are expected to\\n  be published by the Brazilian Cocoa Trade Commission after\\n  carnival which ends midday on February 27.\\n  \\n\\n'"
      ]
     },
     "execution_count": 11,
     "metadata": {},
     "output_type": "execute_result"
    }
   ],
   "source": [
    "corpus[0]"
   ]
  },
  {
   "cell_type": "markdown",
   "metadata": {},
   "source": [
    "Now we have the training corpus defined as a list of raw text documents.  We can pass this to our vectorizer to build our bag of words matrix."
   ]
  },
  {
   "cell_type": "code",
   "execution_count": 12,
   "metadata": {
    "collapsed": false
   },
   "outputs": [
    {
     "data": {
      "text/plain": [
       "<7769x26001 sparse matrix of type '<type 'numpy.int64'>'\n",
       "\twith 426016 stored elements in Compressed Sparse Row format>"
      ]
     },
     "execution_count": 12,
     "metadata": {},
     "output_type": "execute_result"
    }
   ],
   "source": [
    "X = vectorizer.fit_transform(corpus)\n",
    "X"
   ]
  },
  {
   "cell_type": "markdown",
   "metadata": {},
   "source": [
    "The vectorizer stores the data as a sparse matrix since a dense matrix would use way too much space and most of the values would be zero anyway (because each document only contains a small number of the total words in the vocabulary).  We can transform this to a numpy array if necessary though."
   ]
  },
  {
   "cell_type": "code",
   "execution_count": 13,
   "metadata": {
    "collapsed": false
   },
   "outputs": [
    {
     "data": {
      "text/plain": [
       "array([[0, 0, 0, ..., 0, 0, 0],\n",
       "       [0, 3, 0, ..., 0, 0, 0],\n",
       "       [0, 0, 0, ..., 0, 0, 0],\n",
       "       ..., \n",
       "       [0, 0, 0, ..., 0, 0, 0],\n",
       "       [0, 0, 0, ..., 0, 0, 0],\n",
       "       [0, 2, 0, ..., 0, 0, 0]], dtype=int64)"
      ]
     },
     "execution_count": 13,
     "metadata": {},
     "output_type": "execute_result"
    }
   ],
   "source": [
    "X.toarray()"
   ]
  },
  {
   "cell_type": "markdown",
   "metadata": {},
   "source": [
    "The vectorizer stores the feature names (words) that map to the matrix column indexes.  We can inspect those if desired.  Note that I'm skipping to index 2000 because if you look at the beginning of the index, it's all numbers!  The reuters corpus, being news articles, contains quite a high volume of numeric symbols.  It's debatable wether or not we should really include these in the vocabulary, but for now they're there."
   ]
  },
  {
   "cell_type": "code",
   "execution_count": 14,
   "metadata": {
    "collapsed": false
   },
   "outputs": [
    {
     "data": {
      "text/plain": [
       "[u'aero',\n",
       " u'aeroe',\n",
       " u'aerojet',\n",
       " u'aeronautics',\n",
       " u'aeroperu',\n",
       " u'aerosol',\n",
       " u'aerosols',\n",
       " u'aerospace',\n",
       " u'aerotech',\n",
       " u'aet',\n",
       " u'aetna',\n",
       " u'afbf',\n",
       " u'affadavit',\n",
       " u'affair',\n",
       " u'affairs',\n",
       " u'affandi',\n",
       " u'affect',\n",
       " u'affected',\n",
       " u'affecting',\n",
       " u'affects',\n",
       " u'affiliate',\n",
       " u'affiliated',\n",
       " u'affiliates',\n",
       " u'affiliation',\n",
       " u'affinerie',\n",
       " u'affirmation',\n",
       " u'affirmative',\n",
       " u'affirmed',\n",
       " u'afflicted',\n",
       " u'afford']"
      ]
     },
     "execution_count": 14,
     "metadata": {},
     "output_type": "execute_result"
    }
   ],
   "source": [
    "vectorizer.get_feature_names()[2000:2030]"
   ]
  },
  {
   "cell_type": "markdown",
   "metadata": {},
   "source": [
    "One potential issue with this representation is that it holds an in-memory mapping of the vocabulary to the document matrix that can get unwieldy on large datasets.  This approach also doesn't work when training in an on-line fashion since it needs to build the entire vocabulary ahead of time.  There's another vectorization algorithm implemented in scikit-learn that uses feature hashing to build the matrix in a stateless manner.  This HashingVectorizer class solves both of the above problems, however is comes with some tradeoffs - it's not possible to \"inverse transform\" the vector back to the original words, and there's a possibility of collisions that could cause some information to be lost."
   ]
  },
  {
   "cell_type": "code",
   "execution_count": 15,
   "metadata": {
    "collapsed": false
   },
   "outputs": [
    {
     "data": {
      "text/plain": [
       "<7769x1048576 sparse matrix of type '<type 'numpy.float64'>'\n",
       "\twith 573305 stored elements in Compressed Sparse Row format>"
      ]
     },
     "execution_count": 15,
     "metadata": {},
     "output_type": "execute_result"
    }
   ],
   "source": [
    "from sklearn.feature_extraction.text import HashingVectorizer\n",
    "hv = HashingVectorizer()\n",
    "X_hash = hv.transform(corpus)\n",
    "X_hash"
   ]
  },
  {
   "cell_type": "markdown",
   "metadata": {},
   "source": [
    "For now we'll continue using the count vectorizer, but for very large corpora this approach would be faster and more efficient.\n",
    "\n",
    "We now have a bag of words matrix, however there's another problem - some words appear much more frequently across the corpora as a whole than other words, so their presence in a document should carry less weight than a word that is very infrequent in general.  To adjust for this, we'll use something called TF-IDF weighting.  TF stands for term frequency, while IDF stands for inverse document frequency.  The TF-IDF calculation lowers the relative weight of common words and increases the relative weight of uncommon words.\n",
    "\n",
    "Scikit-learn implements TF-IDF as a separate transform that we can apply to the output of our vectorizer."
   ]
  },
  {
   "cell_type": "code",
   "execution_count": 16,
   "metadata": {
    "collapsed": false
   },
   "outputs": [
    {
     "data": {
      "text/plain": [
       "TfidfTransformer(norm=u'l2', smooth_idf=True, sublinear_tf=False,\n",
       "         use_idf=True)"
      ]
     },
     "execution_count": 16,
     "metadata": {},
     "output_type": "execute_result"
    }
   ],
   "source": [
    "from sklearn.feature_extraction.text import TfidfTransformer\n",
    "tfidf = TfidfTransformer()\n",
    "tfidf"
   ]
  },
  {
   "cell_type": "code",
   "execution_count": 17,
   "metadata": {
    "collapsed": false
   },
   "outputs": [
    {
     "data": {
      "text/plain": [
       "array([[ 0.        ,  0.        ,  0.        , ...,  0.        ,\n",
       "         0.        ,  0.        ],\n",
       "       [ 0.        ,  0.0802965 ,  0.        , ...,  0.        ,\n",
       "         0.        ,  0.        ],\n",
       "       [ 0.        ,  0.        ,  0.        , ...,  0.        ,\n",
       "         0.        ,  0.        ],\n",
       "       ..., \n",
       "       [ 0.        ,  0.        ,  0.        , ...,  0.        ,\n",
       "         0.        ,  0.        ],\n",
       "       [ 0.        ,  0.        ,  0.        , ...,  0.        ,\n",
       "         0.        ,  0.        ],\n",
       "       [ 0.        ,  0.18269601,  0.        , ...,  0.        ,\n",
       "         0.        ,  0.        ]])"
      ]
     },
     "execution_count": 17,
     "metadata": {},
     "output_type": "execute_result"
    }
   ],
   "source": [
    "X_weighted = tfidf.fit_transform(X)\n",
    "X_weighted.toarray()"
   ]
  },
  {
   "cell_type": "markdown",
   "metadata": {},
   "source": [
    "Now that we have a weighted term-document matrix, let's do something with it.  A common natural language processing task is to classify documents as belonging to a particular category.  Since the reuters corpus is labeled, we can used a supervised learning algorithm to attempt to learn how to categorize similar news articles.\n",
    "\n",
    "To do this we need a few additional pieces of information.  We need a set of labels, and we need a test set to evaluate performance of the model.  Forunately we have both available to us for the reuters dataset."
   ]
  },
  {
   "cell_type": "code",
   "execution_count": 18,
   "metadata": {
    "collapsed": true
   },
   "outputs": [],
   "source": [
    "# build the term-document matrix for the test set using the existing transforms\n",
    "test_files = [f for f in reuters.fileids() if 'test' in f]\n",
    "test_corpus = [reuters.raw(fileids=[f]) for f in test_files]\n",
    "X_test = vectorizer.transform(test_corpus)\n",
    "X_test_weighted = tfidf.transform(X_test)\n",
    "\n",
    "# get the categories for each document in both the train and test sets\n",
    "train_labels = [reuters.categories(fileids=[f]) for f in files]\n",
    "test_labels = [reuters.categories(fileids=[f]) for f in test_files]"
   ]
  },
  {
   "cell_type": "markdown",
   "metadata": {},
   "source": [
    "Since there are 90 distinct categories, and each document can be assigned to more than one category, we probably don't have enough documents per category to build a really good document classifier.  We're going to simplify the problem a bit and reduce the classification to a binary problem - wether or not the document belongs to the 'acq' category."
   ]
  },
  {
   "cell_type": "code",
   "execution_count": 19,
   "metadata": {
    "collapsed": false
   },
   "outputs": [],
   "source": [
    "y = np.asarray([1 if 'acq' in label else 0 for label in train_labels])\n",
    "y_test = np.asarray([1 if 'acq' in label else 0 for label in test_labels])"
   ]
  },
  {
   "cell_type": "code",
   "execution_count": 20,
   "metadata": {
    "collapsed": false
   },
   "outputs": [
    {
     "data": {
      "text/plain": [
       "((7769, 26001), (7769L,), (3019, 26001), (3019L,))"
      ]
     },
     "execution_count": 20,
     "metadata": {},
     "output_type": "execute_result"
    }
   ],
   "source": [
    "X_weighted.shape, y.shape, X_test_weighted.shape, y_test.shape"
   ]
  },
  {
   "cell_type": "markdown",
   "metadata": {},
   "source": [
    "Now we're ready to train a classifier.  We'll use multinomial Naive Bayes in this example."
   ]
  },
  {
   "cell_type": "code",
   "execution_count": 21,
   "metadata": {
    "collapsed": false
   },
   "outputs": [
    {
     "name": "stdout",
     "output_type": "stream",
     "text": [
      "             precision    recall  f1-score   support\n",
      "\n",
      "    not acq       0.87      1.00      0.93      2300\n",
      "        acq       0.99      0.52      0.68       719\n",
      "\n",
      "avg / total       0.90      0.88      0.87      3019\n",
      "\n"
     ]
    }
   ],
   "source": [
    "from sklearn.naive_bayes import MultinomialNB\n",
    "from sklearn.metrics import classification_report\n",
    "\n",
    "# train the classifier\n",
    "classifier = MultinomialNB()\n",
    "classifier.fit(X_weighted, y)\n",
    "\n",
    "# predict labels for the test set\n",
    "predictions = classifier.predict(X_test_weighted)\n",
    "\n",
    "# output the classification report\n",
    "label_names = ['not acq', 'acq']\n",
    "print(classification_report(y_test, predictions, target_names=label_names))"
   ]
  },
  {
   "cell_type": "markdown",
   "metadata": {},
   "source": [
    "So that's a pretty reasonable outcome, although the recall is not as high as we would like it to be.  There are a number of ways we could work to improve this result, such as experimenting with removing extraenous tokens such as numbers from our vocabulary or constructing additional high-level features about the documents.  For a simple bag-of-words model though it's not too bad.\n",
    "\n",
    "Supervised learning is nice when we have a labeled dataset, but the vast majority of text in the wild does not come with any sort of label so its usefulness in natural language processing is often limited.  What about unsupervised techniques to categorize documents?  Scikit-learn packages a decomposition technique called non-negative matrix factorization (NMF) that we can use for topic extraction."
   ]
  },
  {
   "cell_type": "code",
   "execution_count": 22,
   "metadata": {
    "collapsed": false
   },
   "outputs": [
    {
     "name": "stdout",
     "output_type": "stream",
     "text": [
      "Topic #0:\n",
      "loss profit vs 000 cts dlrs oper shr revs year qtr 4th includes net discontinued note operations 1986 quarter excludes\n",
      "\n",
      "Topic #1:\n",
      "pct february january rose year rise rate index december prices 1986 inflation said fell compared growth consumer statistics base production\n",
      "\n",
      "Topic #2:\n",
      "cts qtly div record april pay prior vs dividend sets march quarterly lt payout 15 10 payable regular 30 31\n",
      "\n",
      "Topic #3:\n",
      "said trade japan dollar bank yen japanese exchange foreign rates market rate dealers economic currency paris countries nations government told\n",
      "\n",
      "Topic #4:\n",
      "vs mln 000 net cts shr revs qtr avg shrs oper dlrs note profit 4th lt year mths 31 sales\n",
      "\n",
      "Topic #5:\n",
      "billion dlrs surplus deficit mln francs marks 1986 january year rose february reserves trade fell 1985 account foreign december exports\n",
      "\n",
      "Topic #6:\n",
      "fed customer repurchase says reserves federal agreements funds reserve temporary sets dlrs week repurchases securities economists supply billion add trading\n",
      "\n",
      "Topic #7:\n",
      "stg mln bank money market england bills band assistance shortage revised today forecast help given provided 16 estimate compares central\n",
      "\n",
      "Topic #8:\n",
      "tonnes 000 wheat sugar corn export said ec grain 87 traders 1986 maize production tonne exports year soviet usda china\n",
      "\n",
      "Topic #9:\n",
      "dlrs said mln company shares share stock lt corp offer split common quarter group earnings dividend oil board shareholders unit\n",
      "\n"
     ]
    }
   ],
   "source": [
    "from sklearn.decomposition import NMF\n",
    "nmf = NMF(n_components=10).fit(X_weighted)\n",
    "\n",
    "feature_names = vectorizer.get_feature_names()\n",
    "\n",
    "for topic_idx, topic in enumerate(nmf.components_):\n",
    "    print('Topic #%d:' % topic_idx)\n",
    "    print(' '.join([feature_names[i] for i in topic.argsort()[:-20 - 1:-1]]))\n",
    "    print('')"
   ]
  },
  {
   "cell_type": "markdown",
   "metadata": {},
   "source": [
    "The above output takes the components derived from the factorization (here assumed to model a \"topic\" from the corpus) and extracts the 20 words that most significantly contributed to that topic.  Although it's not perfect, we can see some commonalites among the groups of words.\n",
    "\n",
    "NMF gives some interesting results, but there are more advanced algorithms for topic modeling.  Latent Dirichlet Allocation (LDA), for example, is a technique that models documents as though they are composed of some undefined number of topics.  Each of the words in the document are then said to be attributed to some combination of those topics.  \n",
    "\n",
    "Scikit-learn does not implement LDA so if we want to try it out, we'll need to look elsewhere.  Fortunately there's a library called gensim that's focused specifically on topic modeling.  To start off we need our corpus in a format that gensim models can use as input.  Gensim implements a lot of the same transforms that we just applied to the data, but rather that re-create the same transforms we can re-use what we've already done and convert our term-document matrix into gensim's expected format."
   ]
  },
  {
   "cell_type": "code",
   "execution_count": 23,
   "metadata": {
    "collapsed": false
   },
   "outputs": [
    {
     "name": "stderr",
     "output_type": "stream",
     "text": [
      "WARNING:gensim.models.ldamodel:no word id mapping provided; initializing from corpus, assuming identity\n"
     ]
    },
    {
     "data": {
      "text/plain": [
       "<gensim.models.ldamodel.LdaModel at 0x20e99fd0>"
      ]
     },
     "execution_count": 23,
     "metadata": {},
     "output_type": "execute_result"
    }
   ],
   "source": [
    "from gensim import corpora, models, similarities, matutils\n",
    "\n",
    "# create the corpus using a conversion utility\n",
    "gensim_corpus = matutils.Sparse2Corpus(X_weighted)\n",
    "\n",
    "# build the LDA model\n",
    "lda = models.LdaModel(gensim_corpus, num_topics=100)\n",
    "lda"
   ]
  },
  {
   "cell_type": "markdown",
   "metadata": {},
   "source": [
    "With our LDA model we could now examine the words that most contribute to each topic (as we did with NMF), or we could compare new documents to the model to identify either the topics that make up that document or the existing documents that they are most similar to.  However, I want to move on from NMF/LDA to another algorithm implemented in gensim called word2vec because it's really, really interesting.  Word2vec is an unsupervised neural network model that runs on a corpus of text and learns vector representations for the individual words in the text.  The word vectors are modeled in a way such that words that are semantically \"close\" to each other are also close in a mathematical sense, and this results in some interested properties.  Let's explore some of the implications on the reuters dataset.\n",
    "\n",
    "Since word2vec expects a list of sentences as input, we'll need to go back to the pre-transformed sentence list provided by NLTK."
   ]
  },
  {
   "cell_type": "code",
   "execution_count": 24,
   "metadata": {
    "collapsed": true
   },
   "outputs": [],
   "source": [
    "model = models.Word2Vec(reuters.sents(), size=100, window=5, min_count=5, workers=4)"
   ]
  },
  {
   "cell_type": "markdown",
   "metadata": {},
   "source": [
    "We now have a trained word2vec model.  It's possible to look at the vector for a word directly, although it won't mean much to a person."
   ]
  },
  {
   "cell_type": "code",
   "execution_count": 25,
   "metadata": {
    "collapsed": false
   },
   "outputs": [
    {
     "data": {
      "text/plain": [
       "array([ 0.36218089,  0.04660718, -0.03312639, -0.00589092,  0.08425491,\n",
       "       -0.05584015,  0.39824656, -0.19913128,  0.21185778, -0.16018888,\n",
       "       -0.30720046,  0.41359827,  0.05477867,  0.40744004, -0.15048127,\n",
       "       -0.21775401, -0.0918686 ,  0.08254269, -0.36109206, -0.08484149,\n",
       "       -0.37724456,  0.19134018,  0.18765855,  0.17301551, -0.13106611,\n",
       "        0.10278706,  0.14409529,  0.09305458, -0.27449781, -0.16971849,\n",
       "        0.20959041,  0.12159102,  0.07963905,  0.03050068,  0.31353745,\n",
       "        0.06859812, -0.26051152,  0.1805039 ,  0.28199297, -0.19140336,\n",
       "        0.13152425,  0.04389969,  0.06004116, -0.31306067, -0.12013798,\n",
       "       -0.17255786, -0.05460097, -0.35606486,  0.31404966,  0.03737779,\n",
       "       -0.11519474,  0.31271645, -0.31853175,  0.08142728,  0.09033886,\n",
       "       -0.15671426, -0.07798025,  0.06073617,  0.2294289 ,  0.13113637,\n",
       "       -0.04398542, -0.34159404,  0.06506728,  0.20032322, -0.11604583,\n",
       "       -0.14258914, -0.06725569, -0.06181487,  0.13476266,  0.17378812,\n",
       "        0.01733109, -0.0836978 , -0.24637276,  0.06484974, -0.02348729,\n",
       "        0.27839953, -0.12627478,  0.50229609,  0.02701729, -0.11646958,\n",
       "       -0.3040815 , -0.18003054,  0.01555716, -0.11430902, -0.40754062,\n",
       "        0.05430043,  0.27255279,  0.12115923,  0.16014519, -0.03295279,\n",
       "       -0.50409102,  0.38960707, -0.19293144, -0.19752754, -0.14633107,\n",
       "        0.24427678, -0.13369191,  0.18097162, -0.26153758, -0.11974742], dtype=float32)"
      ]
     },
     "execution_count": 25,
     "metadata": {},
     "output_type": "execute_result"
    }
   ],
   "source": [
    "model['market']"
   ]
  },
  {
   "cell_type": "markdown",
   "metadata": {},
   "source": [
    "Every word in the vocabulary now has a vector representation that looks like this.  Since we're dealing with vectors, it's possible to compare words using vector math such as the cosine similarity."
   ]
  },
  {
   "cell_type": "code",
   "execution_count": 26,
   "metadata": {
    "collapsed": false
   },
   "outputs": [
    {
     "data": {
      "text/plain": [
       "0.7455091131291105"
      ]
     },
     "execution_count": 26,
     "metadata": {},
     "output_type": "execute_result"
    }
   ],
   "source": [
    "model.similarity('dollar', 'yen')"
   ]
  },
  {
   "cell_type": "code",
   "execution_count": 27,
   "metadata": {
    "collapsed": false
   },
   "outputs": [
    {
     "data": {
      "text/plain": [
       "0.28685558842610581"
      ]
     },
     "execution_count": 27,
     "metadata": {},
     "output_type": "execute_result"
    }
   ],
   "source": [
    "model.similarity('dollar', 'potato')"
   ]
  },
  {
   "cell_type": "markdown",
   "metadata": {},
   "source": [
    "According to the model, 'dollar' and 'yen' are much more similar to each other (both being currencies) than 'dollar' and 'potato'.  The relationship is deeper than just a similarity measure though.  The word2vec model is capable of capturing abstract concepts as well.  The ubiquitous example is \"woman + king - man = queen\".  When properly trained on a large enough amount of text, the model is able to detect that the relationship between 'woman' and 'queen' is similar to the relationship between 'man' and 'king'.  Let's see if the model we just trained can do something similar."
   ]
  },
  {
   "cell_type": "code",
   "execution_count": 28,
   "metadata": {
    "collapsed": false
   },
   "outputs": [
    {
     "data": {
      "text/plain": [
       "[(u'appreciation', 0.6466031670570374),\n",
       " (u'appreciated', 0.596366822719574),\n",
       " (u'sterling', 0.5693594813346863),\n",
       " (u'Taiwan', 0.5512674450874329),\n",
       " (u'slowly', 0.5457212924957275),\n",
       " (u'mark', 0.5433770418167114),\n",
       " (u'yen', 0.5293248891830444),\n",
       " (u'stems', 0.5171161890029907),\n",
       " (u'pleas', 0.5137792825698853),\n",
       " (u'brake', 0.5080464482307434)]"
      ]
     },
     "execution_count": 28,
     "metadata": {},
     "output_type": "execute_result"
    }
   ],
   "source": [
    "model.most_similar(positive=['Japan', 'dollar'], negative=['US'])"
   ]
  },
  {
   "cell_type": "markdown",
   "metadata": {},
   "source": [
    "It didn't get it exactly right, although 'yen' is on the list, but there's a lot of other noise too.  This is mostly likely due to the relatively small size of the dataset.  Word2vec needs a huge amount of training data to work really well.  Some parameter tuning might help too - for example, a size of 100 dimensions might be way too big for the amount of data in the reuters dataset.\n",
    "\n",
    "Let's see if there's a way to visualize some of the information captured by the model.  Since the vectors are high-dimensional we can't visualize them directly, but we can apply a dimension reduction technique like PCA and use the first two principal components as coordinates.  We can try this with a group of words that should be somewhat similar, such as countries."
   ]
  },
  {
   "cell_type": "code",
   "execution_count": 29,
   "metadata": {
    "collapsed": false
   },
   "outputs": [
    {
     "data": {
      "image/png": "[encoded data removed]",
      "text/plain": [
       "<matplotlib.figure.Figure at 0x2fd5aa20>"
      ]
     },
     "metadata": {},
     "output_type": "display_data"
    }
   ],
   "source": [
    "from sklearn.decomposition import PCA\n",
    "\n",
    "words = ['US', 'China', 'Japan', 'England', 'France', 'Germany', 'Soviet']\n",
    "word_vectors = [model[word] for word in words]\n",
    "\n",
    "# create and apply PCA transform\n",
    "pca = PCA(n_components=2)\n",
    "principal_components = pca.fit_transform(word_vectors)\n",
    "\n",
    "# slice the 2D array\n",
    "x = principal_components[:, 0]\n",
    "y = principal_components[:, 1]\n",
    "\n",
    "# plot with text annotation\n",
    "fig, ax = plt.subplots(figsize=(16,12))\n",
    "ax.scatter(x, y, s=0)\n",
    "\n",
    "for i, label in enumerate(words):\n",
    "    ax.annotate(label, (x[i], y[i]), size='x-large')"
   ]
  },
  {
   "cell_type": "markdown",
   "metadata": {},
   "source": [
    "They're a bit more spread out than I thought they would be, but a few (such as U.S. and China) are very close.  These probably appeared frequently in the text so there may have been a larger amount of training data for these terms.  The results become more interesting when applied to very large datasets, and indeed Google and others have done just that.  In fact, applying this methodology to words is only the beginning.  It's already been extended or is being extended to phrases and even entire documents.  It's a very promising research area and I'm excited to see what comes out of it in the next few years."
   ]
  }
 ],
 "metadata": {
  "kernelspec": {
   "display_name": "Python 2",
   "language": "python",
   "name": "python2"
  },
  "language_info": {
   "codemirror_mode": {
    "name": "ipython",
    "version": 2
   },
   "file_extension": ".py",
   "mimetype": "text/x-python",
   "name": "python",
   "nbconvert_exporter": "python",
   "pygments_lexer": "ipython2",
   "version": "2.7.9"
  }
 },
 "nbformat": 4,
 "nbformat_minor": 0
}
